{
  "nbformat": 4,
  "nbformat_minor": 0,
  "metadata": {
    "colab": {
      "provenance": []
    },
    "kernelspec": {
      "name": "python3",
      "display_name": "Python 3"
    },
    "language_info": {
      "name": "python"
    }
  },
  "cells": [
    {
      "cell_type": "code",
      "execution_count": 1,
      "metadata": {
        "colab": {
          "base_uri": "https://localhost:8080/"
        },
        "id": "Hmid0MhRgrZb",
        "outputId": "658edfcc-b2dc-4a8a-fd09-19e181204727"
      },
      "outputs": [
        {
          "output_type": "stream",
          "name": "stdout",
          "text": [
            "Enter 'rock', 'paper', or 'scissors': paper\n",
            "Computer chooses: scissors\n",
            "You lose! Scissors beats Paper.\n",
            "Do you want to play again? (yes/no): yes\n",
            "Enter 'rock', 'paper', or 'scissors': rock\n",
            "Computer chooses: paper\n",
            "You lose! Paper beats Rock.\n",
            "Do you want to play again? (yes/no): yes\n",
            "Enter 'rock', 'paper', or 'scissors': scissors\n",
            "Computer chooses: rock\n",
            "You lose! Rock beats Scissors.\n",
            "Do you want to play again? (yes/no): no\n",
            "Thanks for playing! Goodbye!\n"
          ]
        }
      ],
      "source": [
        "import random\n",
        "\n",
        "# Function to get the result of the game\n",
        "def get_result(player_choice, computer_choice):\n",
        "    if player_choice == computer_choice:\n",
        "        return \"It's a tie!\"\n",
        "\n",
        "    if player_choice == 'rock':\n",
        "        if computer_choice == 'scissors':\n",
        "            return \"You win! Rock beats Scissors.\"\n",
        "        else:\n",
        "            return \"You lose! Paper beats Rock.\"\n",
        "\n",
        "    if player_choice == 'scissors':\n",
        "        if computer_choice == 'paper':\n",
        "            return \"You win! Scissors beats Paper.\"\n",
        "        else:\n",
        "            return \"You lose! Rock beats Scissors.\"\n",
        "\n",
        "    if player_choice == 'paper':\n",
        "        if computer_choice == 'rock':\n",
        "            return \"You win! Paper beats Rock.\"\n",
        "        else:\n",
        "            return \"You lose! Scissors beats Paper.\"\n",
        "\n",
        "# Main function to run the game\n",
        "def play_game():\n",
        "    # List of possible choices\n",
        "    choices = ['rock', 'paper', 'scissors']\n",
        "\n",
        "    # Prompt user for their choice\n",
        "    player_choice = input(\"Enter 'rock', 'paper', or 'scissors': \").lower()\n",
        "\n",
        "    # Check for valid input\n",
        "    if player_choice not in choices:\n",
        "        print(\"Invalid choice! Please choose 'rock', 'paper', or 'scissors'.\")\n",
        "        return\n",
        "\n",
        "    # Randomly select the computer's choice\n",
        "    computer_choice = random.choice(choices)\n",
        "    print(f\"Computer chooses: {computer_choice}\")\n",
        "\n",
        "    # Get the result of the game\n",
        "    result = get_result(player_choice, computer_choice)\n",
        "    print(result)\n",
        "\n",
        "# Start the game\n",
        "if __name__ == \"__main__\":\n",
        "    while True:\n",
        "        play_game()\n",
        "        # Ask user if they want to play again\n",
        "        play_again = input(\"Do you want to play again? (yes/no): \").lower()\n",
        "        if play_again != 'yes':\n",
        "            print(\"Thanks for playing! Goodbye!\")\n",
        "            break\n"
      ]
    },
    {
      "cell_type": "code",
      "source": [],
      "metadata": {
        "id": "UwpbyKcug77m"
      },
      "execution_count": null,
      "outputs": []
    }
  ]
}