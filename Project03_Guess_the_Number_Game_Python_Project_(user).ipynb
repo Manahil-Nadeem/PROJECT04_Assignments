{
  "nbformat": 4,
  "nbformat_minor": 0,
  "metadata": {
    "colab": {
      "provenance": []
    },
    "kernelspec": {
      "name": "python3",
      "display_name": "Python 3"
    },
    "language_info": {
      "name": "python"
    }
  },
  "cells": [
    {
      "cell_type": "code",
      "execution_count": 1,
      "metadata": {
        "colab": {
          "base_uri": "https://localhost:8080/"
        },
        "id": "i5kdbc6Ze7xo",
        "outputId": "1ea8a206-d94a-4f6b-c83e-559e8d8d2801"
      },
      "outputs": [
        {
          "output_type": "stream",
          "name": "stdout",
          "text": [
            "Welcome! Think of a number between 1 and 100, and I will try to guess it.\n",
            "My guess is: 34\n",
            "Is my guess too high, too low, or correct? low\n",
            "Please enter 'too high', 'too low', or 'correct'.\n",
            "My guess is: 35\n",
            "Is my guess too high, too low, or correct? high\n",
            "Please enter 'too high', 'too low', or 'correct'.\n",
            "My guess is: 70\n",
            "Is my guess too high, too low, or correct? correct\n",
            "Yay! I guessed your number 70 correctly in 3 attempts!\n"
          ]
        }
      ],
      "source": [
        "import random\n",
        "\n",
        "# Function to run the game where the computer guesses the user's number\n",
        "def computer_guess():\n",
        "    print(\"Welcome! Think of a number between 1 and 100, and I will try to guess it.\")\n",
        "\n",
        "    # Set the range for guessing\n",
        "    low = 1\n",
        "    high = 100\n",
        "    feedback = ''\n",
        "    attempts = 0\n",
        "\n",
        "    # The loop will continue until the computer guesses the correct number\n",
        "    while feedback != 'correct':\n",
        "        # The computer makes a random guess within the current range\n",
        "        guess = random.randint(low, high)\n",
        "\n",
        "        print(f\"My guess is: {guess}\")\n",
        "\n",
        "        # Get feedback from the user\n",
        "        feedback = input(\"Is my guess too high, too low, or correct? \").lower()\n",
        "\n",
        "        # Provide feedback to adjust the guess range\n",
        "        if feedback == 'too high':\n",
        "            high = guess - 1  # Narrow the range to the lower half\n",
        "        elif feedback == 'too low':\n",
        "            low = guess + 1  # Narrow the range to the upper half\n",
        "        elif feedback != 'correct':\n",
        "            print(\"Please enter 'too high', 'too low', or 'correct'.\")\n",
        "\n",
        "        attempts += 1  # Count the number of guesses\n",
        "\n",
        "    print(f\"Yay! I guessed your number {guess} correctly in {attempts} attempts!\")\n",
        "\n",
        "# Start the game\n",
        "computer_guess()\n"
      ]
    },
    {
      "cell_type": "code",
      "source": [],
      "metadata": {
        "id": "9GNs4atcfwoA"
      },
      "execution_count": null,
      "outputs": []
    }
  ]
}