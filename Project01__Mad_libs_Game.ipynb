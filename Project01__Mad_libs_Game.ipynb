{
  "nbformat": 4,
  "nbformat_minor": 0,
  "metadata": {
    "colab": {
      "provenance": []
    },
    "kernelspec": {
      "name": "python3",
      "display_name": "Python 3"
    },
    "language_info": {
      "name": "python"
    }
  },
  "cells": [
    {
      "cell_type": "code",
      "execution_count": null,
      "metadata": {
        "colab": {
          "base_uri": "https://localhost:8080/"
        },
        "id": "UEER-wvVRQyz",
        "outputId": "b698860b-809b-4be4-95a1-89525effbcd7"
      },
      "outputs": [
        {
          "output_type": "stream",
          "name": "stdout",
          "text": [
            "Welcome to the Mad Libs Game! Please provide the following words:\n",
            "Enter an adjective: horse\n",
            "Enter a noun: happy\n",
            "Enter a verb: eating\n",
            "Enter another noun: donkey\n",
            "Enter another adjective: sad\n",
            "Enter a place: animal cage\n",
            "Enter a name: Mare\n",
            "\n",
            "Here is your Mad Libs story:\n",
            "\n",
            "One day, Mare was walking through a horse forest when they found a happy.\n",
            "Curious, they decided to eating over to it. To their surprise, it was a magical donkey!\n",
            "The sad creature inside the donkey offered Mare a wish. They wished to visit animal cage and immediately, they were transported there.\n",
            "It was the most amazing adventure ever!\n",
            "\n"
          ]
        }
      ],
      "source": [
        "# Mad Libs Game\n",
        "\n",
        "# Step 1: Ask the user for different types of words\n",
        "print(\"Welcome to the Mad Libs Game! Please provide the following words:\")\n",
        "\n",
        "# Collecting input from the user\n",
        "adjective1 = input(\"Enter an adjective: \")\n",
        "noun1 = input(\"Enter a noun: \")\n",
        "verb1 = input(\"Enter a verb: \")\n",
        "noun2 = input(\"Enter another noun: \")\n",
        "adjective2 = input(\"Enter another adjective: \")\n",
        "place = input(\"Enter a place: \")\n",
        "name = input(\"Enter a name: \")\n",
        "\n",
        "# Step 2: Create the story template\n",
        "story = f\"\"\"\n",
        "One day, {name} was walking through a {adjective1} forest when they found a {noun1}.\n",
        "Curious, they decided to {verb1} over to it. To their surprise, it was a magical {noun2}!\n",
        "The {adjective2} creature inside the {noun2} offered {name} a wish. They wished to visit {place} and immediately, they were transported there.\n",
        "It was the most amazing adventure ever!\n",
        "\"\"\"\n",
        "\n",
        "# Step 3: Print the generated story\n",
        "print(\"\\nHere is your Mad Libs story:\")\n",
        "print(story)\n"
      ]
    }
  ]
}