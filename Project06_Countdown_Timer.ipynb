{
  "nbformat": 4,
  "nbformat_minor": 0,
  "metadata": {
    "colab": {
      "provenance": []
    },
    "kernelspec": {
      "name": "python3",
      "display_name": "Python 3"
    },
    "language_info": {
      "name": "python"
    }
  },
  "cells": [
    {
      "cell_type": "code",
      "source": [
        "import time\n",
        "\n",
        "# Function to start the countdown timer\n",
        "def countdown_timer(seconds):\n",
        "    while seconds > 0:\n",
        "        # Display the current time remaining\n",
        "        print(f\"Time left: {seconds} seconds\", end=\"\\r\")\n",
        "        time.sleep(1)  # Wait for 1 second\n",
        "        seconds -= 1  # Decrease the time by 1 second\n",
        "\n",
        "    print(\"Time's up! 🎉\")  # Print when the timer reaches zero\n",
        "\n",
        "# Main function to run the program\n",
        "def main():\n",
        "    # Ask the user for the number of seconds for the countdown\n",
        "    try:\n",
        "        total_seconds = int(input(\"Enter the number of seconds for the countdown: \"))\n",
        "        if total_seconds <= 0:\n",
        "            print(\"Please enter a positive number greater than zero.\")\n",
        "        else:\n",
        "            print(\"Starting countdown...\")\n",
        "            countdown_timer(total_seconds)\n",
        "    except ValueError:\n",
        "        print(\"Please enter a valid number.\")\n",
        "\n",
        "# Run the main function\n",
        "if __name__ == \"__main__\":\n",
        "    main()\n",
        "\n"
      ],
      "metadata": {
        "colab": {
          "base_uri": "https://localhost:8080/"
        },
        "id": "1BaBFloijfmk",
        "outputId": "516f59bb-7d79-4f3b-b591-76081e096b73"
      },
      "execution_count": 3,
      "outputs": [
        {
          "output_type": "stream",
          "name": "stdout",
          "text": [
            "Enter the number of seconds for the countdown: 2\n",
            "Starting countdown...\n",
            "Time's up! 🎉\n"
          ]
        }
      ]
    },
    {
      "cell_type": "code",
      "source": [],
      "metadata": {
        "id": "6_aheSzUjh-l"
      },
      "execution_count": 2,
      "outputs": []
    }
  ]
}