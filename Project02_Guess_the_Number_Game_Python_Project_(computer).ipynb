{
  "nbformat": 4,
  "nbformat_minor": 0,
  "metadata": {
    "colab": {
      "provenance": []
    },
    "kernelspec": {
      "name": "python3",
      "display_name": "Python 3"
    },
    "language_info": {
      "name": "python"
    }
  },
  "cells": [
    {
      "cell_type": "code",
      "source": [
        "import random  # Import the random module\n",
        "\n",
        "def guess_the_number():\n",
        "    # Generate a random number between 1 and 100\n",
        "    number_to_guess = random.randint(1, 100)\n",
        "\n",
        "    # Initialize the number of attempts\n",
        "    attempts = 0\n",
        "    guess = None  # This will store the player's guess\n",
        "\n",
        "    print(\"Welcome to Guess the Number Game!\")\n",
        "    print(\"I have selected a random number between 1 and 100. Try to guess it!\")\n",
        "\n",
        "    # Continue prompting for guesses until the correct number is guessed\n",
        "    while guess != number_to_guess:\n",
        "        # Ask the player for their guess\n",
        "        guess = int(input(\"Enter your guess: \"))\n",
        "        attempts += 1  # Increment the attempt count\n",
        "\n",
        "        # Check if the guess is too low, too high, or correct\n",
        "        if guess < number_to_guess:\n",
        "            print(\"Too low! Try again.\")\n",
        "        elif guess > number_to_guess:\n",
        "            print(\"Too high! Try again.\")\n",
        "        else:\n",
        "            print(f\"Congratulations! You guessed the number in {attempts} attempts.\")\n",
        "            break  # End the loop when the guess is correct\n",
        "\n",
        "# Call the function to start the game\n",
        "guess_the_number()\n"
      ],
      "metadata": {
        "colab": {
          "base_uri": "https://localhost:8080/"
        },
        "id": "pkzAj1NKdHEq",
        "outputId": "76f8f0de-c7a4-4ee2-8eae-4ee35c465e03"
      },
      "execution_count": 3,
      "outputs": [
        {
          "output_type": "stream",
          "name": "stdout",
          "text": [
            "Welcome to Guess the Number Game!\n",
            "I have selected a random number between 1 and 100. Try to guess it!\n",
            "Enter your guess: 94\n",
            "Too high! Try again.\n",
            "Enter your guess: 93\n",
            "Too high! Try again.\n",
            "Enter your guess: 92\n",
            "Too high! Try again.\n",
            "Enter your guess: 91\n",
            "Too high! Try again.\n",
            "Enter your guess: 67\n",
            "Too high! Try again.\n",
            "Enter your guess: 32\n",
            "Too high! Try again.\n",
            "Enter your guess: 21\n",
            "Too high! Try again.\n",
            "Enter your guess: 12\n",
            "Too low! Try again.\n",
            "Enter your guess: 18\n",
            "Too high! Try again.\n",
            "Enter your guess: 14\n",
            "Too low! Try again.\n",
            "Enter your guess: 17\n",
            "Too high! Try again.\n",
            "Enter your guess: 16\n",
            "Congratulations! You guessed the number in 12 attempts.\n"
          ]
        }
      ]
    }
  ]
}