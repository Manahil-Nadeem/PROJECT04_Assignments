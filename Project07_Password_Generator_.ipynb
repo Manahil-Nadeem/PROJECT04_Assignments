{
  "nbformat": 4,
  "nbformat_minor": 0,
  "metadata": {
    "colab": {
      "provenance": []
    },
    "kernelspec": {
      "name": "python3",
      "display_name": "Python 3"
    },
    "language_info": {
      "name": "python"
    }
  },
  "cells": [
    {
      "cell_type": "code",
      "source": [],
      "metadata": {
        "id": "hSCU9RgCnE8S"
      },
      "execution_count": null,
      "outputs": []
    },
    {
      "cell_type": "code",
      "source": [
        "import re\n",
        "\n",
        "def check_password_strength(password):\n",
        "    strength = 0\n",
        "    suggestions = []\n",
        "\n",
        "    # Length Check\n",
        "    if len(password) >= 8:\n",
        "        strength += 1\n",
        "    else:\n",
        "        suggestions.append(\"Make the password at least 8 characters long.\")\n",
        "\n",
        "    # Uppercase & Lowercase Check\n",
        "    if re.search(r'[A-Z]', password) and re.search(r'[a-z]', password):\n",
        "        strength += 1\n",
        "    else:\n",
        "        suggestions.append(\"Use both uppercase and lowercase letters.\")\n",
        "\n",
        "    # Digit Check\n",
        "    if re.search(r'\\d', password):\n",
        "        strength += 1\n",
        "    else:\n",
        "        suggestions.append(\"Include at least one number.\")\n",
        "\n",
        "    # Special Character Check\n",
        "    if re.search(r'[!@#$%^&*()_+={}\\[\\]:;\"\\'<>,.?/|\\\\`~]', password):\n",
        "        strength += 1\n",
        "    else:\n",
        "        suggestions.append(\"Add special characters like @, #, $ for better security.\")\n",
        "\n",
        "    # Strength Levels\n",
        "    if strength == 4:\n",
        "        return \"🟢 Very Strong\", []\n",
        "    elif strength == 3:\n",
        "        return \"🟡 Strong\", suggestions\n",
        "    elif strength == 2:\n",
        "        return \"🟠 Moderate\", suggestions\n",
        "    elif strength == 1:\n",
        "        return \"🔴 Weak\", suggestions\n",
        "    else:\n",
        "        return \"❌ Very Weak\", [\"Password is too weak. Consider making it longer and more complex.\"]\n",
        "\n",
        "# User Input\n",
        "password = input(\"Enter Password: \")\n",
        "\n",
        "if password:\n",
        "    strength, tips = check_password_strength(password)\n",
        "    print(f\"Password Strength: {strength}\")\n",
        "\n",
        "    if tips:\n",
        "        print(\"Suggestions to improve your password:\")\n",
        "        for tip in tips:\n",
        "            print(f\"- {tip}\")\n"
      ],
      "metadata": {
        "colab": {
          "base_uri": "https://localhost:8080/"
        },
        "id": "hV3GHZFHnAjv",
        "outputId": "44a2aacd-65fc-47b3-bc4f-32c41efbebb2"
      },
      "execution_count": 11,
      "outputs": [
        {
          "output_type": "stream",
          "name": "stdout",
          "text": [
            "Enter Password: ali56#3\n",
            "Password Strength: 🟠 Moderate\n",
            "Suggestions to improve your password:\n",
            "- Make the password at least 8 characters long.\n",
            "- Use both uppercase and lowercase letters.\n"
          ]
        }
      ]
    },
    {
      "cell_type": "code",
      "source": [],
      "metadata": {
        "id": "Y7uoEnpXnB3a"
      },
      "execution_count": null,
      "outputs": []
    }
  ]
}